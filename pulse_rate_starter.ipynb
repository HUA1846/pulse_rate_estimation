{
 "cells": [
  {
   "cell_type": "markdown",
   "metadata": {},
   "source": [
    "## Part 1: Pulse Rate Algorithm\n",
    "\n",
    "### Contents\n",
    "Fill out this notebook as part of your final project submission.\n",
    "\n",
    "**You will have to complete both the Code and Project Write-up sections.**\n",
    "- The [Code](#Code) is where you will write a **pulse rate algorithm** and already includes the starter code.\n",
    "   - Imports - These are the imports needed for Part 1 of the final project. \n",
    "     - [glob](https://docs.python.org/3/library/glob.html)\n",
    "     - [numpy](https://numpy.org/)\n",
    "     - [scipy](https://www.scipy.org/)\n",
    "- The [Project Write-up](#Project-Write-up) to describe why you wrote the algorithm for the specific case.\n",
    "\n",
    "\n",
    "### Dataset\n",
    "You will be using the **Troika**[1] dataset to build your algorithm. Find the dataset under `datasets/troika/training_data`. The `README` in that folder will tell you how to interpret the data. The starter code contains a function to help load these files.\n",
    "\n",
    "1. Zhilin Zhang, Zhouyue Pi, Benyuan Liu, ‘‘TROIKA: A General Framework for Heart Rate Monitoring Using Wrist-Type Photoplethysmographic Signals During Intensive Physical Exercise,’’IEEE Trans. on Biomedical Engineering, vol. 62, no. 2, pp. 522-531, February 2015. Link\n",
    "\n",
    "-----"
   ]
  },
  {
   "cell_type": "markdown",
   "metadata": {},
   "source": [
    "### Code"
   ]
  },
  {
   "cell_type": "code",
   "execution_count": 42,
   "metadata": {},
   "outputs": [],
   "source": [
    "import glob\n",
    "\n",
    "import numpy as np\n",
    "import scipy as sp\n",
    "import scipy.io\n",
    "import matplotlib.pyplot as plt\n",
    "import scipy.signal\n",
    "import matplotlib.mlab as mlab\n",
    "%matplotlib inline\n",
    "\n",
    "fs = 125\n",
    "window_length_s = 8\n",
    "window_shift_s = 2\n",
    "window_length = window_length_s * fs\n",
    "window_shift = window_shift_s * fs\n",
    "\n",
    "minfreq = 40/60.0\n",
    "maxfreq = 240/60.0\n",
    "\n",
    "def LoadTroikaDataset():\n",
    "    \"\"\"\n",
    "    Retrieve the .mat filenames for the troika dataset.\n",
    "\n",
    "    Review the README in ./datasets/troika/ to understand the organization of the .mat files.\n",
    "\n",
    "    Returns:\n",
    "        data_fls: Names of the .mat files that contain signal data\n",
    "        ref_fls: Names of the .mat files that contain reference data\n",
    "        <data_fls> and <ref_fls> are ordered correspondingly, so that ref_fls[5] is the \n",
    "            reference data for data_fls[5], etc...\n",
    "    \"\"\"\n",
    "    data_dir = \"./datasets/troika/training_data\"\n",
    "    data_fls = sorted(glob.glob(data_dir + \"/DATA_*.mat\"))\n",
    "    ref_fls = sorted(glob.glob(data_dir + \"/REF_*.mat\"))\n",
    "    return data_fls, ref_fls\n",
    "\n",
    "def LoadTroikaDataFile(data_fl):\n",
    "    \"\"\"\n",
    "    Loads and extracts signals from a troika data file.\n",
    "\n",
    "    Usage:\n",
    "        data_fls, ref_fls = LoadTroikaDataset()\n",
    "        ppg, accx, accy, accz = LoadTroikaDataFile(data_fls[0])\n",
    "\n",
    "    Args:\n",
    "        data_fl: (str) filepath to a troika .mat file.\n",
    "\n",
    "    Returns:\n",
    "        numpy arrays for ppg, accx, accy, accz signals.\n",
    "    \"\"\"\n",
    "    data = sp.io.loadmat(data_fl)['sig']\n",
    "    return data[2:]\n",
    "\n",
    "def AggregateErrorMetric(pr_errors, confidence_est):\n",
    "    \"\"\"\n",
    "    Computes an aggregate error metric based on confidence estimates.\n",
    "\n",
    "    Computes the MAE at 90% availability. \n",
    "\n",
    "    Args:\n",
    "        pr_errors: a numpy array of errors between pulse rate estimates and corresponding \n",
    "            reference heart rates.\n",
    "        confidence_est: a numpy array of confidence estimates for each pulse rate\n",
    "            error.\n",
    "\n",
    "    Returns:\n",
    "        the MAE at 90% availability\n",
    "    \"\"\"\n",
    "    # Higher confidence means a better estimate. The best 90% of the estimates\n",
    "    #    are above the 10th percentile confidence.\n",
    "    percentile90_confidence = np.percentile(confidence_est, 10)\n",
    "\n",
    "    # Find the errors of the best pulse rate estimates\n",
    "    best_estim0tes = pr_errors[confidence_est >= percentile90_confidence]\n",
    "\n",
    "    # Return the mean absolute error\n",
    "    return np.mean(np.abs(best_estimates))\n",
    "\n",
    "def Evaluate():\n",
    "    \"\"\"\n",
    "    Top-level function evaluation function.\n",
    "\n",
    "    Runs the pulse rate algorithm on the Troika dataset and returns an aggregate error metric.\n",
    "\n",
    "    Returns:\n",
    "        Pulse rate error on the Troika dataset. See AggregateErrorMetric.\n",
    "    \"\"\"\n",
    "    # Retrieve dataset files\n",
    "    data_fls, ref_fls = LoadTroikaDataset()\n",
    "    errs, confs = [], []\n",
    "    for data_fl, ref_fl in zip(data_fls, ref_fls):\n",
    "        # Run the pulse rate algorithm on each trial in the dataset\n",
    "        errors, confidence = RunPulseRateAlgorithm(data_fl, ref_fl)\n",
    "        errs.append(errors)\n",
    "        confs.append(confidence)\n",
    "        # Compute aggregate error metric\n",
    "    errs = np.hstack(errs)\n",
    "    confs = np.hstack(confs)\n",
    "    return AggregateErrorMetric(errs, confs)\n",
    "\n",
    "def RunPulseRateAlgorithm(data_fl, ref_fl):\n",
    "    # Load data using LoadTroikaDataFile\n",
    "    ppg, accx, accy, accz = LoadTroikaDataFile(data_fl)\n",
    "    \n",
    "    # load ref ground truth\n",
    "    ground_truth = sp.io.loadmat(ref_fl)['BPM0']\n",
    "    groud_truth = ground_truth.reshape(1,len(ground_truth))\n",
    "    \n",
    "    # apply bandpass filter to signals\n",
    "    ppg = Bandpass_filter(ppg)\n",
    "    accx = Bandpass_filter(accx)\n",
    "    accy = Bandpass_filter(accy)\n",
    "    accz = Bandpass_filter(accz)\n",
    "    \n",
    "    acc = np.sqrt(accx**2 + accy**2 + accz**2)\n",
    "    \n",
    "    # Compute pulse rate estimates and estimation confidence.\n",
    "    est_bpm, confidence = estimate_bpm(ppg, acc)\n",
    "#     est_bpm_x, confidence_x = estimate_bpm(ppg, accx)\n",
    "#     est_bpm_y, confidence_y = estimate_bpm(ppg, accy)\n",
    "#     est_bpm_z, confidence_z = estimate_bpm(ppg, accz)\n",
    "#     est_bpm = np.mean([est_bpm_x, est_bpm_y, est_bpm_z])\n",
    "#     confidence = np.mean([confidence_x, confidence_y, confidence_z])\n",
    "    est_bpm = np.array(est_bpm)\n",
    "    print(est_bpm.shape)\n",
    "    print(ground_truth.shape)\n",
    "    errors = np.abs(np.subtract(ground_truth, est_bpm))\n",
    "    \n",
    "    \n",
    "    # Return per-estimate mean absolute error and confidence as a 2-tuple of numpy arrays.\n",
    "    \n",
    "    return errors, confidence\n",
    "\n",
    "def Bandpass_filter(signal):\n",
    "    \"\"\"\n",
    "    filter the signal of bpm between 40 bpm and 240 bpm\n",
    "    Args:\n",
    "        signal: acceleromter and ppg signal\n",
    "    \n",
    "    Returns:\n",
    "        bandpass filtered signal\n",
    "    \"\"\"\n",
    "    fs = 125\n",
    "    pass_range = (40/60.0, 240/60.0)\n",
    "    b, a = scipy.signal.butter(3, pass_range, btype='bandpass', fs=fs)\n",
    "    return scipy.signal.filtfilt(b, a, signal)\n",
    "\n",
    "def Fourier_Transform(signal):\n",
    "    freqs = np.fft.rfftfreq(len(signal), 1/fs)\n",
    "    fft = np.fft.rfft(signal)\n",
    "    return freqs, np.abs(fft)"
   ]
  },
  {
   "cell_type": "code",
   "execution_count": 50,
   "metadata": {},
   "outputs": [],
   "source": [
    "def get_features(ppg, acc):\n",
    "    \n",
    "    # fourier transform\n",
    "    ppg_freqs, ppg_fft = Fourier_Transform(ppg)\n",
    "    acc_freqs, acc_fft = Fourier_Transform(acc)\n",
    "    \n",
    "    \n",
    "    # filter data\n",
    "    ppg_fft[ppg_freqs <= minfreq] = 0.0\n",
    "    ppg_fft[ppg_freqs >= maxfreq] = 0.0\n",
    "    \n",
    "    acc_fft[acc_freqs <= minfreq] = 0.0\n",
    "    acc_fft[acc_freqs >= maxfreq] = 0.0\n",
    "    \n",
    "    ppg_peaks = sp.signal.find_peaks(ppg_fft, height=2000)[0]\n",
    "    acc_peaks = sp.signal.find_peaks(acc_fft, height=None)[0]\n",
    "    \n",
    "    ppg_peak_freqs = ppg_freqs[ppg_peaks]\n",
    "    acc_peak_freqs = acc_freqs[acc_peaks]\n",
    "    \n",
    "    return {'ppg': (ppg_peaks, ppg_peak_freqs, ppg_freqs, ppg_fft), 'acc': (acc_peaks, acc_peak_freqs, acc_freqs, acc_fft)}\n",
    "\n",
    "\n",
    "def estimate_bpm(ppg, acc):\n",
    "    est_bpm = []\n",
    "    confidence = []\n",
    "    \n",
    "    for i in range(0, len(ppg) - window_length, window_shift):\n",
    "        ppg_seg = ppg[i: i + window_length]\n",
    "        acc_seg = acc[i: i + window_length]\n",
    "        \n",
    "        feature_seg = get_features(ppg_seg, acc_seg)\n",
    "        ppg_peaks, ppg_peak_freqs, ppg_freqs, ppg_fft = feature_seg['ppg']\n",
    "        acc_peaks, acc_peak_freqs, acc_freqs, acc_fft = feature_seg['acc']\n",
    "        \n",
    "        ppg_sorted = ppg_freqs[np.argsort(ppg_fft, axis=0)]\n",
    "        acc_sorted = acc_freqs[np.argsort(acc_fft, axis=0)]\n",
    "        ppg_max = 0\n",
    "        acc_max = 0\n",
    "        \n",
    "        for j in range(1, 4):\n",
    "            if np.abs(ppg_sorted[-j] - acc_sorted[-j]) > 0.2:\n",
    "                est_f = ppg_sorted[-j]\n",
    "                break\n",
    "            else: est_f = ppg_sorted[-3]\n",
    "        \n",
    "        conf = calc_confidence(ppg_fft, ppg_freqs, est_f)\n",
    "        \n",
    "        est_bpm.append(est_f * 60)\n",
    "        confidence.append(conf)\n",
    "    return est_bpm, confidence\n",
    "\n",
    "def calc_confidence(fft, freqs, est_fs):\n",
    "    fs_win = 30  / 60.0\n",
    "    fs_win_e = (freqs >= est_fs - fs_win) & (freqs <= est_fs + fs_win)\n",
    "    return np.sum(fft[fs_win_e])/np.sum(fft)\n",
    "    "
   ]
  },
  {
   "cell_type": "code",
   "execution_count": 51,
   "metadata": {},
   "outputs": [],
   "source": [
    "data_fls, ref_fls = LoadTroikaDataset()\n",
    "ppg, accx, accy, accz = LoadTroikaDataFile(data_fls[0])\n",
    "ppg = Bandpass_filter(ppg)\n",
    "accx = Bandpass_filter(accx)\n",
    "accy = Bandpass_filter(accy)\n",
    "accz = Bandpass_filter(accz)\n",
    "acc = np.sqrt(accx**2 + accy**2 + accz**2)"
   ]
  },
  {
   "cell_type": "code",
   "execution_count": 52,
   "metadata": {},
   "outputs": [
    {
     "name": "stdout",
     "output_type": "stream",
     "text": [
      "(148,)\n",
      "(148, 1)\n"
     ]
    },
    {
     "data": {
      "text/plain": [
       "37.692549146367853"
      ]
     },
     "execution_count": 52,
     "metadata": {},
     "output_type": "execute_result"
    }
   ],
   "source": [
    "errors, confidence = RunPulseRateAlgorithm(data_fls[0], ref_fls[0])\n",
    "np.mean(errors)"
   ]
  },
  {
   "cell_type": "code",
   "execution_count": 171,
   "metadata": {},
   "outputs": [
    {
     "data": {
      "text/plain": [
       "array([ 34.97174841,  34.90248435,  34.69476632, ...,   9.22107389,\n",
       "         9.22107376,   9.2210737 ])"
      ]
     },
     "execution_count": 171,
     "metadata": {},
     "output_type": "execute_result"
    }
   ],
   "source": [
    "features = get_features(ppg, accx)\n",
    "ppg_peaks, ppg_peak_freqs, ppg_freqs, ppg_fft = features['ppg']\n",
    "acc_peaks, acc_peak_freqs, acc_freqs, acc_fft = features['acc']\n",
    "ppg_fft"
   ]
  },
  {
   "cell_type": "code",
   "execution_count": 172,
   "metadata": {},
   "outputs": [
    {
     "data": {
      "text/plain": [
       "2.9094287898357805"
      ]
     },
     "execution_count": 172,
     "metadata": {},
     "output_type": "execute_result"
    }
   ],
   "source": [
    "ppg_freqs[np.argsort(ppg_fft)][-9]"
   ]
  },
  {
   "cell_type": "code",
   "execution_count": 173,
   "metadata": {},
   "outputs": [
    {
     "data": {
      "text/plain": [
       "2.9489680259377389"
      ]
     },
     "execution_count": 173,
     "metadata": {},
     "output_type": "execute_result"
    }
   ],
   "source": [
    "acc_freqs[np.argsort(acc_fft, axis=0)][-9]"
   ]
  },
  {
   "cell_type": "code",
   "execution_count": null,
   "metadata": {},
   "outputs": [],
   "source": [
    "ppg_freqs[np.argmax(ppg_fft)]"
   ]
  },
  {
   "cell_type": "code",
   "execution_count": null,
   "metadata": {},
   "outputs": [],
   "source": [
    "acc_freqs[np.argmax(acc_fft)]"
   ]
  },
  {
   "cell_type": "code",
   "execution_count": null,
   "metadata": {},
   "outputs": [],
   "source": [
    "np.mean([2,3])"
   ]
  },
  {
   "cell_type": "code",
   "execution_count": null,
   "metadata": {},
   "outputs": [],
   "source": [
    "\n",
    "ppg_peaks = sp.signal.find_peaks(ppg[0:window_length], height=0, distance=75)[0]\n",
    "plt.figure(figsize=(12,8))\n",
    "plt.plot(ppg[0:window_length])\n",
    "plt.plot(ppg_peaks, ppg[ppg_peaks], 'r.')"
   ]
  },
  {
   "cell_type": "code",
   "execution_count": null,
   "metadata": {},
   "outputs": [],
   "source": [
    "beat = np.diff(ppg_peaks)/fs\n",
    "bpm = 60/beat\n",
    "bpm"
   ]
  },
  {
   "cell_type": "code",
   "execution_count": null,
   "metadata": {},
   "outputs": [],
   "source": [
    "subjects = []\n",
    "speed_types = []\n",
    "data_fls, ref_fls = LoadTroikaDataset()\n",
    "ppg, accx, accy, accz = LoadTroikaDataFile(data_fls[2])\n",
    "freq = np.fft.rfftfreq(window_length, 1/fs)\n",
    "for i in range(len(data_fls)):\n",
    "    subject = data_fls[i].split('_')[2]\n",
    "    speed = data_fls[0].split('_')[3].split('.')[0]\n",
    "    subjects.append(subject)\n",
    "    speed_types.append(speed)\n",
    "\n",
    "for d in range(len(data_fls)):\n",
    "    ppg, accx, accy, accz = LoadTroikaDataFile(data_fls[d])\n",
    "    ppg = Bandpass_filter(ppg)\n",
    "    accx = Bandpass_filter(accx)\n",
    "    accy = Bandpass_filter(accy)\n",
    "    accz = Bandpass_filter(accz)\n",
    "    stft_ppg = []\n",
    "    stft_accx = []\n",
    "    stft_accy = []\n",
    "    stft_accz = []\n",
    "    for i in range(0, len(ppg) - window_length, window_shift):\n",
    "        ppg_seg = ppg[i: i + window_length]\n",
    "        accx_seg = accx[i: i + window_length]\n",
    "        accy_seg = accy[i: i + window_length]\n",
    "        accz_seg = accz[i: i + window_length]\n",
    "\n",
    "        _, fft_ppg = Fourier_Transform(ppg_seg)\n",
    "        _, fft_accx = Fourier_Transform(accx_seg)\n",
    "        _, fft_accy = Fourier_Transform(accy_seg)\n",
    "        _, fft_accz = Fourier_Transform(accz_seg)\n",
    "        stft_ppg.append(fft_ppg)\n",
    "        stft_accx.append(fft_accx)\n",
    "        stft_accy.append(fft_accy)\n",
    "        stft_accz.append(fft_accz)\n",
    "    \n",
    "#     stft_ppg = np.array(stft_ppg).T\n",
    "    \n",
    "    plt.figure(figsize=(9,6))\n",
    "    plt.subplot(3,1,1)\n",
    "    plt.plot(ppg[0:window_length], label='raw ppg')\n",
    "    plt.xlabel('sampling points')\n",
    "    plt.title('subject {}, speed type:{}'.format(subjects[d], speed_types[d]))\n",
    "    plt.legend()\n",
    "    plt.subplot(3,1,2)\n",
    "#     plt.title('STFT')\n",
    "#     plt.imshow(stft_ppg, extent=[0, len(ppg)/fs, freq[-1], freq[0]], aspect='auto')\n",
    "#     plt.ylim((0, 5))\n",
    "#     plt.xlabel('Time (sec)')\n",
    "#     plt.ylabel('Frequency (Hz)')\n",
    "#     plt.colorbar()\n",
    "    plt.plot(freq, stft_ppg[1], label = 'ppg')\n",
    "    plt.xlabel('frequency (Hz)')\n",
    "    plt.xlim(0,10)\n",
    "    plt.legend()\n",
    "    plt.subplot(3,1,3)\n",
    "    plt.plot(freq, stft_accx[1], label = 'x')\n",
    "    plt.plot(freq, stft_accy[1], label = 'y')\n",
    "    plt.plot(freq, stft_accz[1], label = 'z')\n",
    "    plt.xlim(0,10)\n",
    "    plt.xlabel('frequency (Hz)')\n",
    "    plt.legend()\n",
    "    plt.tight_layout()"
   ]
  },
  {
   "cell_type": "code",
   "execution_count": null,
   "metadata": {},
   "outputs": [],
   "source": [
    "\n"
   ]
  },
  {
   "cell_type": "code",
   "execution_count": null,
   "metadata": {},
   "outputs": [],
   "source": []
  },
  {
   "cell_type": "code",
   "execution_count": null,
   "metadata": {},
   "outputs": [],
   "source": []
  },
  {
   "cell_type": "code",
   "execution_count": null,
   "metadata": {},
   "outputs": [],
   "source": []
  },
  {
   "cell_type": "code",
   "execution_count": null,
   "metadata": {},
   "outputs": [],
   "source": [
    "\n"
   ]
  },
  {
   "cell_type": "code",
   "execution_count": null,
   "metadata": {},
   "outputs": [],
   "source": []
  },
  {
   "cell_type": "code",
   "execution_count": null,
   "metadata": {},
   "outputs": [],
   "source": []
  },
  {
   "cell_type": "code",
   "execution_count": null,
   "metadata": {},
   "outputs": [],
   "source": []
  },
  {
   "cell_type": "markdown",
   "metadata": {},
   "source": [
    "-----\n",
    "### Project Write-up\n",
    "\n",
    "Answer the following prompts to demonstrate understanding of the algorithm you wrote for this specific context.\n",
    "\n",
    "> - **Code Description** - Include details so someone unfamiliar with your project will know how to run your code and use your algorithm. \n",
    "> - **Data Description** - Describe the dataset that was used to train and test the algorithm. Include its short-comings and what data would be required to build a more complete dataset.\n",
    "> - **Algorithhm Description** will include the following:\n",
    ">   - how the algorithm works\n",
    ">   - the specific aspects of the physiology that it takes advantage of\n",
    ">   - a describtion of the algorithm outputs\n",
    ">   - caveats on algorithm outputs \n",
    ">   - common failure modes\n",
    "> - **Algorithm Performance** - Detail how performance was computed (eg. using cross-validation or train-test split) and what metrics were optimized for. Include error metrics that would be relevant to users of your algorithm. Caveat your performance numbers by acknowledging how generalizable they may or may not be on different datasets.\n",
    "\n",
    "Your write-up goes here...\n",
    "\n",
    "12 subjects"
   ]
  },
  {
   "cell_type": "markdown",
   "metadata": {},
   "source": [
    "-----\n",
    "### Next Steps\n",
    "You will now go to **Test Your Algorithm** to apply a unit test to confirm that your algorithm met the success criteria. "
   ]
  }
 ],
 "metadata": {
  "kernelspec": {
   "display_name": "Python 3",
   "language": "python",
   "name": "python3"
  },
  "language_info": {
   "codemirror_mode": {
    "name": "ipython",
    "version": 3
   },
   "file_extension": ".py",
   "mimetype": "text/x-python",
   "name": "python",
   "nbconvert_exporter": "python",
   "pygments_lexer": "ipython3",
   "version": "3.6.3"
  }
 },
 "nbformat": 4,
 "nbformat_minor": 4
}
