{
 "cells": [
  {
   "cell_type": "markdown",
   "metadata": {},
   "source": [
    "## Part 2: Clinical Application\n",
    "\n",
    "### Contents\n",
    "Fill out this notebook as part 2 of your final project submission.\n",
    "\n",
    "**You will have to complete the Code (Load Metadata & Compute Resting Heart Rate) and Project Write-up sections.**  \n",
    "\n",
    "- [Code](#Code) is where you will implement some parts of the **pulse rate algorithm** you created and tested in Part 1 and already includes the starter code.\n",
    "  - [Imports](#Imports) - These are the imports needed for Part 2 of the final project. \n",
    "    - [glob](https://docs.python.org/3/library/glob.html)\n",
    "    - [os](https://docs.python.org/3/library/os.html)\n",
    "    - [numpy](https://numpy.org/)\n",
    "    - [pandas](https://pandas.pydata.org/)\n",
    "  - [Load the Dataset](#Load-the-dataset)  \n",
    "  - [Load Metadata](#Load-Metadata)\n",
    "  - [Compute Resting Heart Rate](#Compute-Resting-Heart-Rate)\n",
    "  - [Plot Resting Heart Rate vs. Age Group](#Plot-Resting-Heart-Rate-vs.-Age-Group)\n",
    "- [Project Write-up](#Project-Write-Up) to describe the clinical significance you observe from the **pulse rate algorithm** applied to this dataset, what ways/information that could improve your results, and if we validated a trend known in the science community. \n",
    "\n",
    "### Dataset (CAST)\n",
    "\n",
    "The data from this project comes from the [Cardiac Arrythmia Suppression Trial (CAST)](https://physionet.org/content/crisdb/1.0.0/), which was sponsored by the National Heart, Lung, and Blood Institute (NHLBI). CAST collected 24 hours of heart rate data from ECGs from people who have had a myocardial infarction (MI) within the past two years.[1] This data has been smoothed and resampled to more closely resemble PPG-derived pulse rate data from a wrist wearable.[2]\n",
    "\n",
    "1. **CAST RR Interval Sub-Study Database Citation** - Stein PK, Domitrovich PP, Kleiger RE, Schechtman KB, Rottman JN. Clinical and demographic determinants of heart rate variability in patients post myocardial infarction: insights from the Cardiac Arrhythmia Suppression Trial (CAST). Clin Cardiol 23(3):187-94; 2000 (Mar)\n",
    "2. **Physionet Citation** - Goldberger AL, Amaral LAN, Glass L, Hausdorff JM, Ivanov PCh, Mark RG, Mietus JE, Moody GB, Peng C-K, Stanley HE. PhysioBank, PhysioToolkit, and PhysioNet: Components of a New Research Resource for Complex Physiologic Signals (2003). Circulation. 101(23):e215-e220.\n",
    "\n",
    "-----"
   ]
  },
  {
   "cell_type": "markdown",
   "metadata": {},
   "source": [
    "### Code\n",
    "#### Imports\n",
    "\n",
    "When you implement the functions, you'll only need to you use the packages you've used in the classroom, like [Pandas](https://pandas.pydata.org/) and [Numpy](http://www.numpy.org/). These packages are imported for you here. We recommend you don't import other packages outside of the [Standard Library](https://docs.python.org/3/library/) , otherwise the grader might not be able to run your code."
   ]
  },
  {
   "cell_type": "code",
   "execution_count": 5,
   "metadata": {},
   "outputs": [],
   "source": [
    "import glob\n",
    "import os\n",
    "\n",
    "import numpy as np\n",
    "import pandas as pd"
   ]
  },
  {
   "cell_type": "code",
   "execution_count": 52,
   "metadata": {},
   "outputs": [
    {
     "name": "stdout",
     "output_type": "stream",
     "text": [
      "Collecting tensorboard\n",
      "\u001b[?25l  Downloading https://files.pythonhosted.org/packages/44/f5/7feea02a3fb54d5db827ac4b822a7ba8933826b36de21880518250b8733a/tensorboard-2.5.0-py3-none-any.whl (6.0MB)\n",
      "\u001b[K    100% |████████████████████████████████| 6.0MB 5.9MB/s eta 0:00:01    35% |███████████▍                    | 2.1MB 19.5MB/s eta 0:00:01    53% |█████████████████▏              | 3.2MB 23.3MB/s eta 0:00:01    71% |███████████████████████         | 4.3MB 23.2MB/s eta 0:00:01    90% |█████████████████████████████   | 5.4MB 24.4MB/s eta 0:00:01\n",
      "\u001b[?25hRequirement already satisfied: werkzeug>=0.11.15 in /opt/conda/lib/python3.6/site-packages (from tensorboard) (0.14.1)\n",
      "Collecting grpcio>=1.24.3 (from tensorboard)\n",
      "\u001b[?25l  Downloading https://files.pythonhosted.org/packages/a0/d6/d04c6550debe23e2eaef0d9c4adccbb6e20d8cce6da40ae989fe8836e287/grpcio-1.37.1.tar.gz (21.7MB)\n",
      "\u001b[K    100% |████████████████████████████████| 21.7MB 1.9MB/s eta 0:00:01  8% |██▊                             | 1.9MB 19.0MB/s eta 0:00:02    28% |█████████                       | 6.1MB 20.0MB/s eta 0:00:01    37% |████████████                    | 8.1MB 20.6MB/s eta 0:00:01    42% |█████████████▌                  | 9.1MB 22.5MB/s eta 0:00:01    51% |████████████████▋               | 11.2MB 22.5MB/s eta 0:00:01    56% |██████████████████▏             | 12.3MB 22.5MB/s eta 0:00:01    70% |██████████████████████▌         | 15.3MB 20.1MB/s eta 0:00:01    75% |████████████████████████        | 16.3MB 22.1MB/s eta 0:00:01    79% |█████████████████████████▌      | 17.3MB 20.9MB/s eta 0:00:01    84% |███████████████████████████     | 18.2MB 18.3MB/s eta 0:00:01    88% |████████████████████████████▍   | 19.2MB 19.9MB/s eta 0:00:01    93% |█████████████████████████████▉  | 20.2MB 20.2MB/s eta 0:00:01    97% |███████████████████████████████▎| 21.2MB 23.0MB/s eta 0:00:01\n",
      "\u001b[?25hCollecting absl-py>=0.4 (from tensorboard)\n",
      "\u001b[?25l  Downloading https://files.pythonhosted.org/packages/92/c9/ef0fae29182d7a867d203f0eff8296b60da92098cc41db33a434f4be84bf/absl_py-0.12.0-py3-none-any.whl (129kB)\n",
      "\u001b[K    100% |████████████████████████████████| 133kB 16.8MB/s ta 0:00:01\n",
      "\u001b[?25hRequirement already satisfied: markdown>=2.6.8 in /opt/conda/lib/python3.6/site-packages (from tensorboard) (2.6.9)\n",
      "Collecting protobuf>=3.6.0 (from tensorboard)\n",
      "\u001b[?25l  Downloading https://files.pythonhosted.org/packages/8c/78/3bccd7f228179b382441644f1692cdce6e0f46b0422e61a39915c98b3287/protobuf-3.15.8-cp36-cp36m-manylinux1_x86_64.whl (1.0MB)\n",
      "\u001b[K    100% |████████████████████████████████| 1.0MB 13.1MB/s ta 0:00:01    34% |██████████▉                     | 348kB 19.2MB/s eta 0:00:01\n",
      "\u001b[?25hCollecting tensorboard-data-server<0.7.0,>=0.6.0 (from tensorboard)\n",
      "  Downloading https://files.pythonhosted.org/packages/ff/00/3e8ffeb44502904ace252340ca1f20874e0132599ea0fa8f3d8838a4c148/tensorboard_data_server-0.6.0-py3-none-any.whl\n",
      "Collecting tensorboard-plugin-wit>=1.6.0 (from tensorboard)\n",
      "\u001b[?25l  Downloading https://files.pythonhosted.org/packages/1a/c1/499e600ba0c618b451cd9c425ae1c177249940a2086316552fee7d86c954/tensorboard_plugin_wit-1.8.0-py3-none-any.whl (781kB)\n",
      "\u001b[K    100% |████████████████████████████████| 788kB 14.6MB/s ta 0:00:01\n",
      "\u001b[?25hCollecting requests<3,>=2.21.0 (from tensorboard)\n",
      "\u001b[?25l  Downloading https://files.pythonhosted.org/packages/29/c1/24814557f1d22c56d50280771a17307e6bf87b70727d975fd6b2ce6b014a/requests-2.25.1-py2.py3-none-any.whl (61kB)\n",
      "\u001b[K    100% |████████████████████████████████| 61kB 12.9MB/s ta 0:00:01\n",
      "\u001b[?25hCollecting google-auth<2,>=1.6.3 (from tensorboard)\n",
      "\u001b[?25l  Downloading https://files.pythonhosted.org/packages/d2/c1/44179a1cfc5c3b5832a5f9c925161612471ec5f346bcd186235651d74f35/google_auth-1.30.0-py2.py3-none-any.whl (146kB)\n",
      "\u001b[K    100% |████████████████████████████████| 153kB 17.9MB/s ta 0:00:01\n",
      "\u001b[?25hRequirement already satisfied: wheel>=0.26; python_version >= \"3\" in /opt/conda/lib/python3.6/site-packages (from tensorboard) (0.30.0)\n",
      "Collecting google-auth-oauthlib<0.5,>=0.4.1 (from tensorboard)\n",
      "  Downloading https://files.pythonhosted.org/packages/9d/d3/7541e89f1fc456eef157224f597a8bba22589db6369a03eaba68c11f07a0/google_auth_oauthlib-0.4.4-py2.py3-none-any.whl\n",
      "Requirement already satisfied: numpy>=1.12.0 in /opt/conda/lib/python3.6/site-packages (from tensorboard) (1.19.5)\n",
      "Collecting setuptools>=41.0.0 (from tensorboard)\n",
      "\u001b[?25l  Downloading https://files.pythonhosted.org/packages/ae/42/2876a3a136f8bfa9bd703518441c8db78ff1eeaddf174baa85c083c1fd15/setuptools-56.0.0-py3-none-any.whl (784kB)\n",
      "\u001b[K    100% |████████████████████████████████| 788kB 8.8MB/s eta 0:00:01    95% |██████████████████████████████▌ | 747kB 20.4MB/s eta 0:00:01\n",
      "\u001b[?25hRequirement already satisfied: six>=1.5.2 in /opt/conda/lib/python3.6/site-packages (from grpcio>=1.24.3->tensorboard) (1.11.0)\n",
      "Requirement already satisfied: idna<3,>=2.5 in /opt/conda/lib/python3.6/site-packages (from requests<3,>=2.21.0->tensorboard) (2.6)\n",
      "Requirement already satisfied: chardet<5,>=3.0.2 in /opt/conda/lib/python3.6/site-packages (from requests<3,>=2.21.0->tensorboard) (3.0.4)\n",
      "Requirement already satisfied: certifi>=2017.4.17 in /opt/conda/lib/python3.6/site-packages (from requests<3,>=2.21.0->tensorboard) (2019.11.28)\n",
      "Requirement already satisfied: urllib3<1.27,>=1.21.1 in /opt/conda/lib/python3.6/site-packages (from requests<3,>=2.21.0->tensorboard) (1.22)\n",
      "Collecting pyasn1-modules>=0.2.1 (from google-auth<2,>=1.6.3->tensorboard)\n",
      "\u001b[?25l  Downloading https://files.pythonhosted.org/packages/95/de/214830a981892a3e286c3794f41ae67a4495df1108c3da8a9f62159b9a9d/pyasn1_modules-0.2.8-py2.py3-none-any.whl (155kB)\n",
      "\u001b[K    100% |████████████████████████████████| 163kB 17.1MB/s ta 0:00:01\n",
      "\u001b[?25hCollecting cachetools<5.0,>=2.0.0 (from google-auth<2,>=1.6.3->tensorboard)\n",
      "  Downloading https://files.pythonhosted.org/packages/bf/28/c4f5796c67ad06bb91d98d543a5e01805c1ff065e08871f78e52d2a331ad/cachetools-4.2.2-py3-none-any.whl\n",
      "Requirement already satisfied: rsa<5,>=3.1.4; python_version >= \"3.6\" in /opt/conda/lib/python3.6/site-packages (from google-auth<2,>=1.6.3->tensorboard) (3.4.2)\n",
      "Requirement already satisfied: requests-oauthlib>=0.7.0 in /opt/conda/lib/python3.6/site-packages (from google-auth-oauthlib<0.5,>=0.4.1->tensorboard) (0.8.0)\n",
      "Collecting pyasn1<0.5.0,>=0.4.6 (from pyasn1-modules>=0.2.1->google-auth<2,>=1.6.3->tensorboard)\n",
      "\u001b[?25l  Downloading https://files.pythonhosted.org/packages/62/1e/a94a8d635fa3ce4cfc7f506003548d0a2447ae76fd5ca53932970fe3053f/pyasn1-0.4.8-py2.py3-none-any.whl (77kB)\n",
      "\u001b[K    100% |████████████████████████████████| 81kB 15.4MB/s ta 0:00:01\n",
      "\u001b[?25hRequirement already satisfied: oauthlib>=0.6.2 in /opt/conda/lib/python3.6/site-packages (from requests-oauthlib>=0.7.0->google-auth-oauthlib<0.5,>=0.4.1->tensorboard) (2.0.6)\n",
      "Building wheels for collected packages: grpcio\n",
      "  Running setup.py bdist_wheel for grpcio ... \u001b[?25l/^C\n",
      "\u001b[?25canceled\n"
     ]
    }
   ],
   "source": [
    "!pip install tensorboard"
   ]
  },
  {
   "cell_type": "code",
   "execution_count": 53,
   "metadata": {},
   "outputs": [
    {
     "name": "stdout",
     "output_type": "stream",
     "text": [
      "Requirement already satisfied: scikit-image==0.14.2 in /opt/conda/lib/python3.6/site-packages (0.14.2)\n",
      "Requirement already satisfied: matplotlib>=2.0.0 in /opt/conda/lib/python3.6/site-packages (from scikit-image==0.14.2) (3.3.4)\n",
      "Requirement already satisfied: cloudpickle>=0.2.1 in /opt/conda/lib/python3.6/site-packages (from scikit-image==0.14.2) (0.2.2)\n",
      "Requirement already satisfied: pillow>=4.3.0 in /opt/conda/lib/python3.6/site-packages (from scikit-image==0.14.2) (8.2.0)\n",
      "Requirement already satisfied: networkx>=1.8 in /opt/conda/lib/python3.6/site-packages (from scikit-image==0.14.2) (1.11)\n",
      "Collecting dask[array]>=1.0.0 (from scikit-image==0.14.2)\n",
      "\u001b[?25l  Downloading https://files.pythonhosted.org/packages/2e/86/95faa4a9c1f7fbfa2df2ae9e7e1a11349cb97a81e2f38ff9dda301606882/dask-2021.3.0-py3-none-any.whl (925kB)\n",
      "\u001b[K    100% |████████████████████████████████| 931kB 11.6MB/s ta 0:00:01\n",
      "\u001b[?25hRequirement already satisfied: PyWavelets>=0.4.0 in /opt/conda/lib/python3.6/site-packages (from scikit-image==0.14.2) (0.5.2)\n",
      "Requirement already satisfied: six>=1.10.0 in /opt/conda/lib/python3.6/site-packages (from scikit-image==0.14.2) (1.11.0)\n",
      "Requirement already satisfied: python-dateutil>=2.1 in /opt/conda/lib/python3.6/site-packages (from matplotlib>=2.0.0->scikit-image==0.14.2) (2.6.1)\n",
      "Requirement already satisfied: pyparsing!=2.0.4,!=2.1.2,!=2.1.6,>=2.0.3 in /opt/conda/lib/python3.6/site-packages (from matplotlib>=2.0.0->scikit-image==0.14.2) (2.2.0)\n",
      "Requirement already satisfied: kiwisolver>=1.0.1 in /opt/conda/lib/python3.6/site-packages (from matplotlib>=2.0.0->scikit-image==0.14.2) (1.3.1)\n",
      "Requirement already satisfied: cycler>=0.10 in /opt/conda/lib/python3.6/site-packages/cycler-0.10.0-py3.6.egg (from matplotlib>=2.0.0->scikit-image==0.14.2) (0.10.0)\n",
      "Requirement already satisfied: numpy>=1.15 in /opt/conda/lib/python3.6/site-packages (from matplotlib>=2.0.0->scikit-image==0.14.2) (1.19.5)\n",
      "Requirement already satisfied: decorator>=3.4.0 in /opt/conda/lib/python3.6/site-packages (from networkx>=1.8->scikit-image==0.14.2) (4.0.11)\n",
      "Requirement already satisfied: pyyaml in /opt/conda/lib/python3.6/site-packages (from dask[array]>=1.0.0->scikit-image==0.14.2) (3.12)\n",
      "Requirement already satisfied: toolz>=0.8.2; extra == \"array\" in /opt/conda/lib/python3.6/site-packages (from dask[array]>=1.0.0->scikit-image==0.14.2) (0.8.2)\n",
      "Installing collected packages: dask\n",
      "  Found existing installation: dask 0.16.1\n",
      "    Uninstalling dask-0.16.1:\n",
      "      Successfully uninstalled dask-0.16.1\n",
      "Successfully installed dask-2021.3.0\n"
     ]
    }
   ],
   "source": [
    "!pip install scikit-image==0.14.2"
   ]
  },
  {
   "cell_type": "code",
   "execution_count": 67,
   "metadata": {},
   "outputs": [
    {
     "name": "stdout",
     "output_type": "stream",
     "text": [
      "Requirement already satisfied: seaborn==0.11.1 in /opt/conda/lib/python3.6/site-packages (0.11.1)\n",
      "Requirement already satisfied: numpy>=1.15 in /opt/conda/lib/python3.6/site-packages (from seaborn==0.11.1) (1.19.5)\n",
      "Requirement already satisfied: scipy>=1.0 in /opt/conda/lib/python3.6/site-packages (from seaborn==0.11.1) (1.2.1)\n",
      "Requirement already satisfied: matplotlib>=2.2 in /opt/conda/lib/python3.6/site-packages (from seaborn==0.11.1) (3.3.4)\n",
      "Requirement already satisfied: pandas>=0.23 in /opt/conda/lib/python3.6/site-packages (from seaborn==0.11.1) (0.23.3)\n",
      "Requirement already satisfied: python-dateutil>=2.1 in /opt/conda/lib/python3.6/site-packages (from matplotlib>=2.2->seaborn==0.11.1) (2.6.1)\n",
      "Requirement already satisfied: pillow>=6.2.0 in /opt/conda/lib/python3.6/site-packages (from matplotlib>=2.2->seaborn==0.11.1) (8.2.0)\n",
      "Requirement already satisfied: pyparsing!=2.0.4,!=2.1.2,!=2.1.6,>=2.0.3 in /opt/conda/lib/python3.6/site-packages (from matplotlib>=2.2->seaborn==0.11.1) (2.2.0)\n",
      "Requirement already satisfied: kiwisolver>=1.0.1 in /opt/conda/lib/python3.6/site-packages (from matplotlib>=2.2->seaborn==0.11.1) (1.3.1)\n",
      "Requirement already satisfied: cycler>=0.10 in /opt/conda/lib/python3.6/site-packages/cycler-0.10.0-py3.6.egg (from matplotlib>=2.2->seaborn==0.11.1) (0.10.0)\n",
      "Requirement already satisfied: pytz>=2011k in /opt/conda/lib/python3.6/site-packages (from pandas>=0.23->seaborn==0.11.1) (2017.3)\n",
      "Requirement already satisfied: six>=1.5 in /opt/conda/lib/python3.6/site-packages (from python-dateutil>=2.1->matplotlib>=2.2->seaborn==0.11.1) (1.11.0)\n"
     ]
    }
   ],
   "source": [
    "!pip install seaborn==0.11.1"
   ]
  },
  {
   "cell_type": "markdown",
   "metadata": {},
   "source": [
    "#### Load the dataset\n",
    "\n",
    "The dataset is stored as [.npz](https://docs.scipy.org/doc/numpy/reference/generated/numpy.savez.html) files. Each file contains roughly 24 hours of heart rate data in the 'hr' array sampled at 1Hz. The subject ID is the name of the file. You will use these files to compute resting heart rate.\n",
    "\n",
    "Demographics metadata is stored in a file called 'metadata.csv'. This CSV has three columns, one for subject ID, age group, and sex. You will use this file to make the association between resting heart rate and age group for each gender.\n",
    "\n",
    "Find the dataset in `../datasets/crisdb/`"
   ]
  },
  {
   "cell_type": "code",
   "execution_count": 7,
   "metadata": {},
   "outputs": [],
   "source": [
    "hr_filenames = glob.glob('/data/crisdb/*.npz')"
   ]
  },
  {
   "cell_type": "markdown",
   "metadata": {},
   "source": [
    "#### Load Metadata\n",
    "Load the metadata file into a datastructure that allows for easy lookups from subject ID to age group and sex."
   ]
  },
  {
   "cell_type": "code",
   "execution_count": 8,
   "metadata": {},
   "outputs": [
    {
     "ename": "FileNotFoundError",
     "evalue": "[Errno 2] No such file or directory: '/data/crisdb/metadata.csv'",
     "output_type": "error",
     "traceback": [
      "\u001b[1;31m---------------------------------------------------------------------------\u001b[0m",
      "\u001b[1;31mFileNotFoundError\u001b[0m                         Traceback (most recent call last)",
      "\u001b[1;32m<ipython-input-8-5391bff35e78>\u001b[0m in \u001b[0;36m<module>\u001b[1;34m\u001b[0m\n\u001b[0;32m      2\u001b[0m \u001b[1;33m\u001b[0m\u001b[0m\n\u001b[0;32m      3\u001b[0m \u001b[1;31m# Load the metadata file into this variable.\u001b[0m\u001b[1;33m\u001b[0m\u001b[1;33m\u001b[0m\u001b[1;33m\u001b[0m\u001b[0m\n\u001b[1;32m----> 4\u001b[1;33m \u001b[1;32mwith\u001b[0m \u001b[0mopen\u001b[0m\u001b[1;33m(\u001b[0m\u001b[0mmetadata_filename\u001b[0m\u001b[1;33m,\u001b[0m \u001b[1;34m'r'\u001b[0m\u001b[1;33m)\u001b[0m \u001b[1;32mas\u001b[0m \u001b[0mf\u001b[0m\u001b[1;33m:\u001b[0m\u001b[1;33m\u001b[0m\u001b[1;33m\u001b[0m\u001b[0m\n\u001b[0m\u001b[0;32m      5\u001b[0m     \u001b[0mmetadata\u001b[0m \u001b[1;33m=\u001b[0m \u001b[0mpd\u001b[0m\u001b[1;33m.\u001b[0m\u001b[0mread_csv\u001b[0m\u001b[1;33m(\u001b[0m\u001b[0mf\u001b[0m\u001b[1;33m)\u001b[0m\u001b[1;33m\u001b[0m\u001b[1;33m\u001b[0m\u001b[0m\n",
      "\u001b[1;31mFileNotFoundError\u001b[0m: [Errno 2] No such file or directory: '/data/crisdb/metadata.csv'"
     ]
    }
   ],
   "source": [
    "metadata_filename = '/data/crisdb/metadata.csv'\n",
    "\n",
    "# Load the metadata file into this variable.\n",
    "with open(metadata_filename, 'r') as f:\n",
    "    metadata = pd.read_csv(f)"
   ]
  },
  {
   "cell_type": "code",
   "execution_count": null,
   "metadata": {},
   "outputs": [],
   "source": [
    "metadata.head()"
   ]
  },
  {
   "cell_type": "code",
   "execution_count": null,
   "metadata": {},
   "outputs": [],
   "source": [
    "hr = np.load(hr_filenames[0])['hr']\n",
    "np.percentile(hr, 5)"
   ]
  },
  {
   "cell_type": "code",
   "execution_count": null,
   "metadata": {},
   "outputs": [],
   "source": [
    "metadata[metadata['subject'] == 'e190a']['age'].values.tolist()[0]"
   ]
  },
  {
   "cell_type": "code",
   "execution_count": null,
   "metadata": {},
   "outputs": [],
   "source": [
    "hr_filenames[0].split('/')[3].split('.')[0]"
   ]
  },
  {
   "cell_type": "markdown",
   "metadata": {},
   "source": [
    "#### Compute Resting Heart Rate\n",
    "For each subject we want to compute the resting heart rate while keeping track of which age group this subject belongs to. An easy, robust way to compute the resting heart rate is to use the lowest 5th percentile value in the heart rate timeseries."
   ]
  },
  {
   "cell_type": "code",
   "execution_count": null,
   "metadata": {},
   "outputs": [],
   "source": [
    "def AgeAndRHR(metadata, filename):\n",
    "\n",
    "    # Load the heart rate timeseries\n",
    "    hr_data = np.load(filename)['hr']\n",
    "    \n",
    "    # Compute the resting heart rate from the timeseries by finding the lowest 5th percentile value in hr_data\n",
    "    rhr = np.percentile(hr_data, 5)\n",
    "\n",
    "    # Find the subject ID from the filename.\n",
    "    subject = filename.split('/')[3].split('.')[0]\n",
    "\n",
    "    # Find the age group for this subject in metadata.\n",
    "    age_group = metadata[metadata['subject'] == subject]['age'].values.tolist()[0]\n",
    "    \n",
    "    # Find the sex for this subject in metadata.\n",
    "    sex = metadata[metadata['subject'] == subject]['sex'].values.tolist()[0]\n",
    "\n",
    "    return age_group, sex, rhr\n",
    "\n",
    "df = pd.DataFrame(data=[AgeAndRHR(metadata, filename) for filename in hr_filenames],\n",
    "                  columns=['age_group', 'sex', 'rhr'])"
   ]
  },
  {
   "cell_type": "code",
   "execution_count": null,
   "metadata": {},
   "outputs": [],
   "source": [
    "df.head()"
   ]
  },
  {
   "cell_type": "markdown",
   "metadata": {},
   "source": [
    "#### Plot Resting Heart Rate vs. Age Group\n",
    "We'll use [seaborn](https://seaborn.pydata.org/) to plot the relationship. Seaborn is a thin wrapper around matplotlib, which we've used extensively in this class, that enables higher-level statistical plots.\n",
    "\n",
    "We will use [lineplot](https://seaborn.pydata.org/generated/seaborn.lineplot.html#seaborn.lineplot) to plot the mean of the resting heart rates for each age group along with the 95% confidence interval around the mean. Learn more about making plots that show uncertainty [here](https://seaborn.pydata.org/tutorial/relational.html#aggregation-and-representing-uncertainty)."
   ]
  },
  {
   "cell_type": "code",
   "execution_count": null,
   "metadata": {},
   "outputs": [],
   "source": [
    "import seaborn as sns\n",
    "from matplotlib import pyplot as plt\n",
    "\n",
    "labels = sorted(np.unique(df.age_group))\n",
    "df['xaxis'] = df.age_group.map(lambda x: labels.index(x)).astype('float')\n",
    "plt.figure(figsize=(12, 8))\n",
    "sns.lineplot(x='xaxis', y='rhr', hue='sex', data=df)\n",
    "_ = plt.xticks(np.arange(len(labels)), labels)"
   ]
  },
  {
   "cell_type": "code",
   "execution_count": null,
   "metadata": {},
   "outputs": [],
   "source": [
    "print(sns.__version__)"
   ]
  },
  {
   "cell_type": "code",
   "execution_count": null,
   "metadata": {},
   "outputs": [],
   "source": []
  },
  {
   "cell_type": "markdown",
   "metadata": {},
   "source": [
    "### Clinical Conclusion\n",
    "Answer the following prompts to draw a conclusion about the data.\n",
    "> 1. For women, we see .... \n",
    "> 2. For men, we see ... \n",
    "> 3. In comparison to men, women's heart rate is .... \n",
    "> 4. What are some possible reasons for what we see in our data?\n",
    "> 5. What else can we do or go and find to figure out what is really happening? How would that improve the results?\n",
    "> 6. Did we validate the trend that average resting heart rate increases up until middle age and then decreases into old age? How?\n",
    "\n",
    "Your write-up will go here..."
   ]
  }
 ],
 "metadata": {
  "kernelspec": {
   "display_name": "Python 3",
   "language": "python",
   "name": "python3"
  },
  "language_info": {
   "codemirror_mode": {
    "name": "ipython",
    "version": 3
   },
   "file_extension": ".py",
   "mimetype": "text/x-python",
   "name": "python",
   "nbconvert_exporter": "python",
   "pygments_lexer": "ipython3",
   "version": "3.8.0"
  }
 },
 "nbformat": 4,
 "nbformat_minor": 2
}
